{
 "cells": [
  {
   "cell_type": "code",
   "execution_count": 101,
   "id": "2a502351",
   "metadata": {},
   "outputs": [],
   "source": [
    "import os\n",
    "import re"
   ]
  },
  {
   "cell_type": "code",
   "execution_count": 102,
   "id": "a6adff04",
   "metadata": {},
   "outputs": [],
   "source": [
    "cwd = os.getcwd()"
   ]
  },
  {
   "cell_type": "code",
   "execution_count": 103,
   "id": "04fe9c4d",
   "metadata": {},
   "outputs": [],
   "source": [
    "files = os.listdir(cwd)"
   ]
  },
  {
   "cell_type": "code",
   "execution_count": 104,
   "id": "3a36e759",
   "metadata": {},
   "outputs": [],
   "source": [
    "def use_regex(input_text):\n",
    "    pattern = re.compile(r\"[0-9]+\", re.IGNORECASE)\n",
    "    return pattern.search(input_text)"
   ]
  },
  {
   "cell_type": "code",
   "execution_count": 106,
   "id": "daedb296",
   "metadata": {},
   "outputs": [],
   "source": [
    "l = []\n",
    "for file in files:\n",
    "    if \"index.html\" in file:\n",
    "        s = file[use_regex(test_str).start():use_regex(test_str).end()]\n",
    "        os.rename(file, 'index'+s+'.html')\n",
    "        \n",
    "        "
   ]
  },
  {
   "cell_type": "code",
   "execution_count": 31,
   "id": "46c2ad39",
   "metadata": {},
   "outputs": [
    {
     "data": {
      "text/plain": [
       "str"
      ]
     },
     "execution_count": 31,
     "metadata": {},
     "output_type": "execute_result"
    }
   ],
   "source": [
    "type(files[0])"
   ]
  },
  {
   "cell_type": "code",
   "execution_count": 62,
   "id": "581db3fe",
   "metadata": {},
   "outputs": [
    {
     "data": {
      "text/plain": [
       "str"
      ]
     },
     "execution_count": 62,
     "metadata": {},
     "output_type": "execute_result"
    }
   ],
   "source": [
    "test_str "
   ]
  },
  {
   "cell_type": "code",
   "execution_count": 89,
   "id": "14148960",
   "metadata": {},
   "outputs": [
    {
     "name": "stdout",
     "output_type": "stream",
     "text": [
      "Match was found at 13-16: 350\n"
     ]
    }
   ],
   "source": [
    "# coding=utf8\n",
    "# the above tag defines encoding for this document and is for Python 2.x compatibility\n",
    "\n",
    "\n",
    "\n",
    "regex = r\"[0-9]+\"\n",
    "\n",
    "test_str = \"index.html?p=350\"\n",
    "\n",
    "matches = re.search(regex, test_str)\n",
    "\n",
    "if matches:\n",
    "    print (\"Match was found at {start}-{end}: {match}\".format(start = matches.start(), end = matches.end(), match = matches.group()))\n",
    "    \n",
    "    for groupNum in range(0, len(matches.groups())):\n",
    "        groupNum = groupNum + 1\n",
    "        \n",
    "        print (\"Group {groupNum} found at {start}-{end}: {group}\".format(groupNum = groupNum, start = matches.start(groupNum), end = matches.end(groupNum), group = matches.group(groupNum)))\n",
    "\n",
    "# Note: for Python 2.7 compatibility, use ur\"\" to prefix the regex and u\"\" to prefix the test string and substitution.\n"
   ]
  },
  {
   "cell_type": "code",
   "execution_count": 92,
   "id": "1d57e69a",
   "metadata": {},
   "outputs": [
    {
     "data": {
      "text/plain": [
       "13"
      ]
     },
     "execution_count": 92,
     "metadata": {},
     "output_type": "execute_result"
    }
   ],
   "source": [
    "use_regex(test_str).start()"
   ]
  },
  {
   "cell_type": "code",
   "execution_count": 97,
   "id": "274bf706",
   "metadata": {},
   "outputs": [],
   "source": [
    " s = test_str[use_regex(test_str).start():use_regex(test_str).end()]"
   ]
  },
  {
   "cell_type": "code",
   "execution_count": 98,
   "id": "d58c3d85",
   "metadata": {},
   "outputs": [
    {
     "data": {
      "text/plain": [
       "'index350.html'"
      ]
     },
     "execution_count": 98,
     "metadata": {},
     "output_type": "execute_result"
    }
   ],
   "source": [
    "'index'+s+'.html'"
   ]
  },
  {
   "cell_type": "code",
   "execution_count": null,
   "id": "48e511c7",
   "metadata": {},
   "outputs": [],
   "source": []
  }
 ],
 "metadata": {
  "kernelspec": {
   "display_name": "Python 3",
   "language": "python",
   "name": "python3"
  },
  "language_info": {
   "codemirror_mode": {
    "name": "ipython",
    "version": 3
   },
   "file_extension": ".py",
   "mimetype": "text/x-python",
   "name": "python",
   "nbconvert_exporter": "python",
   "pygments_lexer": "ipython3",
   "version": "3.6.15"
  }
 },
 "nbformat": 4,
 "nbformat_minor": 5
}
